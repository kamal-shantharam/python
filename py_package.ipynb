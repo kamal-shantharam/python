{
  "nbformat": 4,
  "nbformat_minor": 0,
  "metadata": {
    "colab": {
      "provenance": [],
      "authorship_tag": "ABX9TyP7RyBro+UJn6E7w2ItdFgz",
      "include_colab_link": true
    },
    "kernelspec": {
      "name": "python3",
      "display_name": "Python 3"
    },
    "language_info": {
      "name": "python"
    }
  },
  "cells": [
    {
      "cell_type": "markdown",
      "metadata": {
        "id": "view-in-github",
        "colab_type": "text"
      },
      "source": [
        "<a href=\"https://colab.research.google.com/github/kamal-shantharam/python/blob/main/py_package.ipynb\" target=\"_parent\"><img src=\"https://colab.research.google.com/assets/colab-badge.svg\" alt=\"Open In Colab\"/></a>"
      ]
    },
    {
      "cell_type": "code",
      "execution_count": 37,
      "metadata": {
        "colab": {
          "base_uri": "https://localhost:8080/"
        },
        "id": "jDWu7B4t7BVS",
        "outputId": "1b5e0719-a395-4a61-ab68-67936218d345"
      },
      "outputs": [
        {
          "output_type": "stream",
          "name": "stdout",
          "text": [
            "hello\n"
          ]
        },
        {
          "output_type": "execute_result",
          "data": {
            "text/plain": [
              "array([0.10110303, 0.68275875, 0.94419992, 0.3992442 , 0.25169769])"
            ]
          },
          "metadata": {},
          "execution_count": 37
        }
      ],
      "source": [
        "# using numpy\n",
        "import numpy as np\n",
        "print('hello')\n",
        "np.random.rand(5)"
      ]
    },
    {
      "cell_type": "code",
      "source": [
        "# using pandas\n",
        "import pandas as pd\n",
        "print(pd.__version__)\n",
        "arr = [70, 13, 46, 36, 9]\n",
        "print('before sort: ', arr)\n",
        "arr.sort()\n",
        "print('after sort:', arr)\n",
        "order=[1, 2, 3, 4, 5]\n",
        "print(pd.Series(arr, index=order))\n",
        "\n",
        "# creating a dictionary\n",
        "dict = { 0:'a', 1:'b', 2:'c', 3:'d', 4:'e'}\n",
        "print(pd.Series(dict))\n"
      ],
      "metadata": {
        "colab": {
          "base_uri": "https://localhost:8080/"
        },
        "id": "c2GwSLBNHnSZ",
        "outputId": "b1488bd7-6ab9-4ec5-80b3-f41d0aacf82c"
      },
      "execution_count": 41,
      "outputs": [
        {
          "output_type": "stream",
          "name": "stdout",
          "text": [
            "2.2.2\n",
            "before sort:  [70, 13, 46, 36, 9]\n",
            "after sort: [9, 13, 36, 46, 70]\n",
            "1     9\n",
            "2    13\n",
            "3    36\n",
            "4    46\n",
            "5    70\n",
            "dtype: int64\n",
            "0    a\n",
            "1    b\n",
            "2    c\n",
            "3    d\n",
            "4    e\n",
            "dtype: object\n"
          ]
        }
      ]
    }
  ]
}