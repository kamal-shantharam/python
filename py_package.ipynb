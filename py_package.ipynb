{
  "nbformat": 4,
  "nbformat_minor": 0,
  "metadata": {
    "colab": {
      "provenance": [],
      "authorship_tag": "ABX9TyNcAFuay6Rt6fakZ4ZNwj1n",
      "include_colab_link": true
    },
    "kernelspec": {
      "name": "python3",
      "display_name": "Python 3"
    },
    "language_info": {
      "name": "python"
    }
  },
  "cells": [
    {
      "cell_type": "markdown",
      "metadata": {
        "id": "view-in-github",
        "colab_type": "text"
      },
      "source": [
        "<a href=\"https://colab.research.google.com/github/kamal-shantharam/python/blob/main/py_package.ipynb\" target=\"_parent\"><img src=\"https://colab.research.google.com/assets/colab-badge.svg\" alt=\"Open In Colab\"/></a>"
      ]
    },
    {
      "cell_type": "code",
      "execution_count": 43,
      "metadata": {
        "colab": {
          "base_uri": "https://localhost:8080/"
        },
        "id": "jDWu7B4t7BVS",
        "outputId": "253c8bfd-d132-4e6a-fd56-3fa2e7f5a50d"
      },
      "outputs": [
        {
          "output_type": "stream",
          "name": "stdout",
          "text": [
            "hello\n"
          ]
        },
        {
          "output_type": "execute_result",
          "data": {
            "text/plain": [
              "array([0.98464413, 0.76249081, 0.00741113, 0.42694226, 0.55516228])"
            ]
          },
          "metadata": {},
          "execution_count": 43
        }
      ],
      "source": [
        "# using numpy\n",
        "import numpy as np\n",
        "print('hello')\n",
        "np.random.rand(5)"
      ]
    },
    {
      "cell_type": "code",
      "source": [
        "# using pandas\n",
        "import pandas as pd\n",
        "print(pd.__version__)\n",
        "arr = [70, 13, 46, 36, 9]\n",
        "print('before sort: ', arr)\n",
        "arr.sort()\n",
        "print('after sort:', arr)\n",
        "order=[1, 2, 3, 4, 5]\n",
        "s = pd.Series(arr, index=order)\n",
        "print(s)\n",
        "\n",
        "# modifying the index\n",
        "s.index = ['a', 'b', 'c', 'd', 'e']\n",
        "print(s)\n",
        "\n",
        "# creating a dictionary\n",
        "dict = { 0:'a', 1:'b', 2:'c', 3:'d', 4:'e'}\n",
        "print(pd.Series(dict))\n"
      ],
      "metadata": {
        "colab": {
          "base_uri": "https://localhost:8080/"
        },
        "id": "c2GwSLBNHnSZ",
        "outputId": "015af10f-7601-42c1-b1e4-63bad19c5f35"
      },
      "execution_count": 19,
      "outputs": [
        {
          "output_type": "stream",
          "name": "stdout",
          "text": [
            "2.2.2\n",
            "before sort:  [70, 13, 46, 36, 9]\n",
            "after sort: [9, 13, 36, 46, 70]\n",
            "1     9\n",
            "2    13\n",
            "3    36\n",
            "4    46\n",
            "5    70\n",
            "dtype: int64\n",
            "a     9\n",
            "b    13\n",
            "c    36\n",
            "d    46\n",
            "e    70\n",
            "dtype: int64\n",
            "0    a\n",
            "1    b\n",
            "2    c\n",
            "3    d\n",
            "4    e\n",
            "dtype: object\n"
          ]
        }
      ]
    },
    {
      "cell_type": "code",
      "source": [
        "import pandas as pd\n",
        "\n",
        "# slicing\n",
        "arr = [2, 6, 1, 3, 5, 7, 6, 9, 8, 0]\n",
        "arr2 = [12, 16, 11, 13, 15, 17, 16, 19, 18, 10]\n",
        "print(arr)\n",
        "print(arr[1:2])\n",
        "s1 = pd.Series(arr)\n",
        "s2 = pd.Series(arr2)\n",
        "s3 = s1.add(s2)\n",
        "print(s3)\n",
        "s4 = s1.sub(s2)\n",
        "print(s4)\n",
        "s5 = s1.mul(s2)\n",
        "print(s5)\n",
        "s6 = s1.div(s2)\n",
        "print(s5)\n",
        "s1.drop(0)\n",
        "print('median', s1.median())\n",
        "print('max', s1.max())\n",
        "print('min', s1.min())"
      ],
      "metadata": {
        "colab": {
          "base_uri": "https://localhost:8080/"
        },
        "id": "JvXra-fxZEfT",
        "outputId": "a0ead58b-1e80-44a0-9a1a-80f87d2f080d"
      },
      "execution_count": 32,
      "outputs": [
        {
          "output_type": "stream",
          "name": "stdout",
          "text": [
            "[2, 6, 1, 3, 5, 7, 6, 9, 8, 0]\n",
            "[6]\n",
            "0    14\n",
            "1    22\n",
            "2    12\n",
            "3    16\n",
            "4    20\n",
            "5    24\n",
            "6    22\n",
            "7    28\n",
            "8    26\n",
            "9    10\n",
            "dtype: int64\n",
            "0   -10\n",
            "1   -10\n",
            "2   -10\n",
            "3   -10\n",
            "4   -10\n",
            "5   -10\n",
            "6   -10\n",
            "7   -10\n",
            "8   -10\n",
            "9   -10\n",
            "dtype: int64\n",
            "0     24\n",
            "1     96\n",
            "2     11\n",
            "3     39\n",
            "4     75\n",
            "5    119\n",
            "6     96\n",
            "7    171\n",
            "8    144\n",
            "9      0\n",
            "dtype: int64\n",
            "0     24\n",
            "1     96\n",
            "2     11\n",
            "3     39\n",
            "4     75\n",
            "5    119\n",
            "6     96\n",
            "7    171\n",
            "8    144\n",
            "9      0\n",
            "dtype: int64\n",
            "median 5.5\n",
            "max 9\n",
            "min 0\n"
          ]
        }
      ]
    }
  ]
}